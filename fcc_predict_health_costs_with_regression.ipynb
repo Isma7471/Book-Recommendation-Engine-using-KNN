{
  "cells": [
    {
      "cell_type": "markdown",
      "metadata": {
        "id": "view-in-github",
        "colab_type": "text"
      },
      "source": [
        "<a href=\"https://colab.research.google.com/github/Isma7471/Book-Recommendation-Engine-using-KNN/blob/main/fcc_predict_health_costs_with_regression.ipynb\" target=\"_parent\"><img src=\"https://colab.research.google.com/assets/colab-badge.svg\" alt=\"Open In Colab\"/></a>"
      ]
    },
    {
      "cell_type": "markdown",
      "source": [
        "\n",
        "# Instructions\n",
        "In this challenge, you will predict healthcare costs using a regression algorithm.\n",
        "\n",
        "You are given a dataset that contains information about different people including their healthcare costs. Use the data to predict healthcare costs based on new data.\n",
        "\n",
        "The first two cells of this notebook import libraries and the data.\n",
        "\n",
        "Make sure to convert categorical data to numbers. Use 80% of the data as the train_dataset and 20% of the data as the test_dataset.\n",
        "\n",
        "pop off the \"expenses\" column from these datasets to create new datasets called train_labels and test_labels. Use these labels when training your model.\n",
        "\n",
        "Create a model and train it with the train_dataset. Run the final cell in this notebook to check your model. The final cell will use the unseen test_dataset to check how well the model generalizes.\n",
        "\n",
        "To pass the challenge, model.evaluate must return a Mean Absolute Error of under 3500. This means it predicts health care costs correctly within $3500.\n",
        "\n",
        "The final cell will also predict expenses using the test_dataset and graph the results."
      ],
      "metadata": {
        "id": "-SwK_1NxdX11"
      }
    },
    {
      "cell_type": "markdown",
      "source": [
        "# **Importing** **Libraries**"
      ],
      "metadata": {
        "id": "_zdktO-Wdqld"
      }
    },
    {
      "cell_type": "code",
      "execution_count": null,
      "metadata": {
        "id": "1rRo8oNqZ-Rj"
      },
      "outputs": [],
      "source": [
        "# Import libraries. You may or may not use all of these.\n",
        "!pip install -q git+https://github.com/tensorflow/docs\n",
        "import matplotlib.pyplot as plt\n",
        "import numpy as np\n",
        "import pandas as pd\n",
        "\n",
        "try:\n",
        "  # %tensorflow_version only exists in Colab.\n",
        "  %tensorflow_version 2.x\n",
        "except Exception:\n",
        "  pass\n",
        "import tensorflow as tf\n",
        "\n",
        "from tensorflow import keras\n",
        "from tensorflow.keras import layers\n",
        "\n",
        "import tensorflow_docs as tfdocs\n",
        "import tensorflow_docs.plots\n",
        "import tensorflow_docs.modeling"
      ]
    },
    {
      "cell_type": "markdown",
      "source": [
        "# **Loading** **Dataset**"
      ],
      "metadata": {
        "id": "PumVERUld13g"
      }
    },
    {
      "cell_type": "code",
      "execution_count": null,
      "metadata": {
        "id": "CiX2FI4gZtTt"
      },
      "outputs": [],
      "source": [
        "# Import data\n",
        "!wget https://cdn.freecodecamp.org/project-data/health-costs/insurance.csv\n",
        "dataset = pd.read_csv('insurance.csv')\n",
        "dataset.tail()"
      ]
    },
    {
      "cell_type": "markdown",
      "source": [
        "# Checking for Missing Values"
      ],
      "metadata": {
        "id": "TZgMIaxyd-P8"
      }
    },
    {
      "cell_type": "code",
      "execution_count": null,
      "metadata": {
        "id": "LcopvQh3X-kX"
      },
      "outputs": [],
      "source": [
        "dataset.isnull().sum()"
      ]
    },
    {
      "cell_type": "code",
      "source": [
        "dataset.dtypes"
      ],
      "metadata": {
        "id": "R4V5w1RgOMWU"
      },
      "execution_count": null,
      "outputs": []
    },
    {
      "cell_type": "code",
      "source": [
        "dataset.region.value_counts()"
      ],
      "metadata": {
        "id": "87Ww48c_PSRW"
      },
      "execution_count": null,
      "outputs": []
    },
    {
      "cell_type": "code",
      "source": [
        "dataset = dataset.join(pd.get_dummies(dataset.region, prefix='region')).drop('region', axis=1)\n",
        "dataset.head()"
      ],
      "metadata": {
        "id": "JdD0A_HyPeU2"
      },
      "execution_count": null,
      "outputs": []
    },
    {
      "cell_type": "code",
      "source": [
        "dataset.sex.value_counts()"
      ],
      "metadata": {
        "id": "WEx41UhgP_Zv"
      },
      "execution_count": null,
      "outputs": []
    },
    {
      "cell_type": "code",
      "source": [
        "labels = {}\n",
        "\n",
        "values        = dataset.sex.astype('category')\n",
        "labels['sex'] = values.cat.categories\n",
        "dataset['sex']     = values.cat.codes\n",
        "\n",
        "dataset.head()"
      ],
      "metadata": {
        "id": "FqyU3PmoQGoE"
      },
      "execution_count": null,
      "outputs": []
    },
    {
      "cell_type": "code",
      "source": [
        "dataset.smoker.value_counts()"
      ],
      "metadata": {
        "id": "UXMLUChDQbQH"
      },
      "execution_count": null,
      "outputs": []
    },
    {
      "cell_type": "code",
      "source": [
        "values           = dataset.smoker.astype('category')\n",
        "labels['smoker'] = values.cat.categories\n",
        "dataset['smoker']     = values.cat.codes\n",
        "\n",
        "dataset.head()"
      ],
      "metadata": {
        "id": "8da3KY1NQmFA"
      },
      "execution_count": null,
      "outputs": []
    },
    {
      "cell_type": "code",
      "source": [
        "labels"
      ],
      "metadata": {
        "id": "BJU7YPhcQyWp"
      },
      "execution_count": null,
      "outputs": []
    },
    {
      "cell_type": "code",
      "source": [
        "import seaborn as sns\n",
        "sns.heatmap(dataset.corr(), annot=True, fmt='.2f')"
      ],
      "metadata": {
        "id": "sgvY_tvkRXdh"
      },
      "execution_count": null,
      "outputs": []
    },
    {
      "cell_type": "code",
      "source": [
        "dataset.drop(['region_northeast', 'region_northwest', 'region_southeast', 'region_southwest'], axis=1, inplace=True)\n"
      ],
      "metadata": {
        "id": "3W7bC8zGUSOK"
      },
      "execution_count": null,
      "outputs": []
    },
    {
      "cell_type": "code",
      "source": [
        "dataset.drop(['sex', 'children'], axis=1, inplace=True)"
      ],
      "metadata": {
        "id": "9wG5IIkUUbkV"
      },
      "execution_count": null,
      "outputs": []
    },
    {
      "cell_type": "code",
      "source": [
        "sns.pairplot(dataset)"
      ],
      "metadata": {
        "id": "4pUsseuVUp_a"
      },
      "execution_count": null,
      "outputs": []
    },
    {
      "cell_type": "code",
      "source": [
        "dataset=dataset.sample(frac=1)"
      ],
      "metadata": {
        "id": "_Bv3djuuWNSt"
      },
      "execution_count": null,
      "outputs": []
    },
    {
      "cell_type": "code",
      "source": [
        "size = int(len(dataset) * .2)\n",
        "train_dataset = dataset[:-size]\n",
        "test_dataset = dataset[-size:]\n",
        "print(len(dataset), len(train_dataset), len(test_dataset))"
      ],
      "metadata": {
        "id": "XO_b9AeJWS8V"
      },
      "execution_count": null,
      "outputs": []
    },
    {
      "cell_type": "code",
      "source": [
        "train_labels = train_dataset['expenses']\n",
        "train_dataset = train_dataset.drop('expenses', axis=1)"
      ],
      "metadata": {
        "id": "AHDRUZJVXBkV"
      },
      "execution_count": null,
      "outputs": []
    },
    {
      "cell_type": "code",
      "source": [
        "test_labels = test_dataset['expenses']\n",
        "test_dataset = test_dataset.drop('expenses', axis=1)"
      ],
      "metadata": {
        "id": "UwhuI6JBZGUL"
      },
      "execution_count": null,
      "outputs": []
    },
    {
      "cell_type": "code",
      "source": [
        "model=keras.Sequential()\n",
        "model.add(layers.Dense(64, activation='relu', input_shape=[len(train_dataset.keys())]))\n",
        "model.add(layers.Dense(64, activation='relu'))\n",
        "model.add(layers.Dense(1))\n",
        "\n",
        "model.compile(optimizer='adam', loss='mae', metrics=['mae', 'mse'])\n",
        "model.summary()"
      ],
      "metadata": {
        "id": "MWbfJS9NXSV8"
      },
      "execution_count": null,
      "outputs": []
    },
    {
      "cell_type": "code",
      "source": [
        "class EpochDots(keras.callbacks.Callback):\n",
        "  def on_epoch_end(self, epoch, logs):\n",
        "    if epoch % 100 == 0:\n",
        "      print()\n",
        "      print('Epoch: {:d}, '.format(epoch), end='')\n",
        "      for name, value in sorted(logs.items()):\n",
        "        print('{}:{:0.4f}'.format(name, value), end=', ')\n",
        "        print()\n",
        "\n",
        "    print('.', end='')"
      ],
      "metadata": {
        "id": "xW-HZOdwX9LS"
      },
      "execution_count": null,
      "outputs": []
    },
    {
      "cell_type": "code",
      "source": [
        "r=model.fit(train_dataset, train_labels, epochs=500,\n",
        "          verbose=0, callbacks=[EpochDots()])"
      ],
      "metadata": {
        "id": "_EmqNauOYLGk"
      },
      "execution_count": null,
      "outputs": []
    },
    {
      "cell_type": "code",
      "source": [
        "res=model.evaluate(test_dataset, test_labels, verbose=2)\n",
        "print(res)"
      ],
      "metadata": {
        "id": "NHPT6uA6YfMg"
      },
      "execution_count": null,
      "outputs": []
    },
    {
      "cell_type": "code",
      "execution_count": null,
      "metadata": {
        "id": "Xe7RXH3N3CWU"
      },
      "outputs": [],
      "source": [
        "# RUN THIS CELL TO TEST YOUR MODEL. DO NOT MODIFY CONTENTS.\n",
        "# Test model by checking how well the model generalizes using the test set.\n",
        "loss, mae, mse = model.evaluate(test_dataset, test_labels, verbose=2)\n",
        "\n",
        "print(\"Testing set Mean Abs Error: {:5.2f} expenses\".format(mae))\n",
        "\n",
        "if mae < 3500:\n",
        "  print(\"You passed the challenge. Great job!\")\n",
        "else:\n",
        "  print(\"The Mean Abs Error must be less than 3500. Keep trying.\")\n",
        "\n",
        "# Plot predictions.\n",
        "test_predictions = model.predict(test_dataset).flatten()\n",
        "\n",
        "a = plt.axes(aspect='equal')\n",
        "plt.scatter(test_labels, test_predictions)\n",
        "plt.xlabel('True values (expenses)')\n",
        "plt.ylabel('Predictions (expenses)')\n",
        "lims = [0, 50000]\n",
        "plt.xlim(lims)\n",
        "plt.ylim(lims)\n",
        "_ = plt.plot(lims,lims)\n"
      ]
    }
  ],
  "metadata": {
    "colab": {
      "name": "fcc_predict_health_costs_with_regression.ipynb",
      "private_outputs": true,
      "provenance": [],
      "toc_visible": true,
      "include_colab_link": true
    },
    "kernelspec": {
      "display_name": "Python 3",
      "name": "python3"
    }
  },
  "nbformat": 4,
  "nbformat_minor": 0
}